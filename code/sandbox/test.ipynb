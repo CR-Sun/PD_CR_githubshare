{
 "cells": [
  {
   "cell_type": "code",
   "execution_count": 1,
   "metadata": {},
   "outputs": [],
   "source": [
    "import pyvista as pv\n"
   ]
  },
  {
   "cell_type": "code",
   "execution_count": 2,
   "metadata": {},
   "outputs": [],
   "source": [
    "mesh = pv.read('../../data/cases/Design_1/Mapped_Blade_Surface.vtk')"
   ]
  },
  {
   "cell_type": "code",
   "execution_count": 8,
   "metadata": {},
   "outputs": [
    {
     "data": {
      "text/plain": [
       "(10103,)"
      ]
     },
     "execution_count": 8,
     "metadata": {},
     "output_type": "execute_result"
    }
   ],
   "source": [
    "mesh.point_data['MappedDerivedVelocityMagnitude'].shape"
   ]
  },
  {
   "cell_type": "code",
   "execution_count": 6,
   "metadata": {},
   "outputs": [
    {
     "data": {
      "text/html": [
       "<table><tr><th>Header</th><th>Data Arrays</th></tr><tr><td>\n",
       "<table>\n",
       "<tr><th>UnstructuredGrid</th><th>Information</th></tr>\n",
       "<tr><td>N Cells</td><td>19996</td></tr>\n",
       "<tr><td>N Points</td><td>10103</td></tr>\n",
       "<tr><td>X Bounds</td><td>-3.099e-03, 3.500e-03</td></tr>\n",
       "<tr><td>Y Bounds</td><td>-1.267e-02, 1.268e-02</td></tr>\n",
       "<tr><td>Z Bounds</td><td>-1.250e-02, 1.277e-02</td></tr>\n",
       "<tr><td>N Arrays</td><td>4</td></tr>\n",
       "</table>\n",
       "\n",
       "</td><td>\n",
       "<table>\n",
       "<tr><th>Name</th><th>Field</th><th>Type</th><th>N Comp</th><th>Min</th><th>Max</th></tr>\n",
       "<tr><td><b>MappedAbsolutePressure</b></td><td>Points</td><td>float32</td><td>1</td><td>9.228e+04</td><td>1.129e+05</td></tr>\n",
       "<tr><td>MappedAbsoluteTotalPressure</td><td>Points</td><td>float32</td><td>1</td><td>9.885e+04</td><td>1.273e+05</td></tr>\n",
       "<tr><td>MappedDerivedVelocityMagnitude</td><td>Points</td><td>float32</td><td>1</td><td>3.269e+00</td><td>5.349e+00</td></tr>\n",
       "<tr><td>MappedTau</td><td>Points</td><td>float32</td><td>1</td><td>1.235e+00</td><td>6.741e+02</td></tr>\n",
       "</table>\n",
       "\n",
       "</td></tr> </table>"
      ],
      "text/plain": [
       "UnstructuredGrid (0x7fb343181360)\n",
       "  N Cells:\t19996\n",
       "  N Points:\t10103\n",
       "  X Bounds:\t-3.099e-03, 3.500e-03\n",
       "  Y Bounds:\t-1.267e-02, 1.268e-02\n",
       "  Z Bounds:\t-1.250e-02, 1.277e-02\n",
       "  N Arrays:\t4"
      ]
     },
     "execution_count": 6,
     "metadata": {},
     "output_type": "execute_result"
    }
   ],
   "source": [
    "mesh"
   ]
  },
  {
   "cell_type": "code",
   "execution_count": null,
   "metadata": {},
   "outputs": [],
   "source": []
  }
 ],
 "metadata": {
  "kernelspec": {
   "display_name": "Python 3.10.4 ('graphlab')",
   "language": "python",
   "name": "python3"
  },
  "language_info": {
   "codemirror_mode": {
    "name": "ipython",
    "version": 3
   },
   "file_extension": ".py",
   "mimetype": "text/x-python",
   "name": "python",
   "nbconvert_exporter": "python",
   "pygments_lexer": "ipython3",
   "version": "3.10.4"
  },
  "orig_nbformat": 4,
  "vscode": {
   "interpreter": {
    "hash": "86ebb72f6481a5ec0210b52d49d4073c917056b34ec47fc43f28ddec02b94fa7"
   }
  }
 },
 "nbformat": 4,
 "nbformat_minor": 2
}
