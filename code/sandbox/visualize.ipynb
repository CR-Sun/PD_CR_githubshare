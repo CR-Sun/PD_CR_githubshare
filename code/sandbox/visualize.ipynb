{
 "cells": [
  {
   "cell_type": "code",
   "execution_count": 1,
   "metadata": {},
   "outputs": [],
   "source": [
    "import numpy as np\n",
    "import matplotlib\n",
    "import matplotlib.pyplot as plt\n",
    "import pyvista as pv\n",
    "\n"
   ]
  },
  {
   "cell_type": "code",
   "execution_count": 9,
   "metadata": {},
   "outputs": [],
   "source": [
    "mesh1 = pv.read('../../data/cases/dataset1/Design_1/Mapped_Blade_Surface.vtp')\n",
    "mesh2 = pv.read('../../data/cases/dataset1/Design_3/Mapped_Blade_Surface.vtp')"
   ]
  },
  {
   "cell_type": "code",
   "execution_count": 11,
   "metadata": {},
   "outputs": [
    {
     "name": "stdout",
     "output_type": "stream",
     "text": [
      "[0.0035     0.01267862 0.0127702 ] [-0.00309857 -0.01266982 -0.01249999]\n",
      "[0.0035     0.01313635 0.01298159] [-0.00309857 -0.01272934 -0.01309938]\n"
     ]
    }
   ],
   "source": [
    "print(np.max(mesh1.points, axis = 0),np.min(mesh1.points, axis = 0))\n",
    "print(np.max(mesh2.points, axis = 0),np.min(mesh2.points, axis = 0))"
   ]
  },
  {
   "cell_type": "code",
   "execution_count": 14,
   "metadata": {},
   "outputs": [
    {
     "data": {
      "text/plain": [
       "pyvista_ndarray([1, 1, 1, ..., 0, 0, 0])"
      ]
     },
     "execution_count": 14,
     "metadata": {},
     "output_type": "execute_result"
    }
   ],
   "source": [
    "(mesh1.points[:,1]>0)*(1)"
   ]
  },
  {
   "cell_type": "code",
   "execution_count": 31,
   "metadata": {},
   "outputs": [
    {
     "name": "stdout",
     "output_type": "stream",
     "text": [
      "(10103, 3)\n"
     ]
    }
   ],
   "source": [
    "def cyl_coor_pos(points):\n",
    "    r = np.linalg.norm(points[:,1:],axis = 1)\n",
    "    theta = np.arctan(mesh1.points[:,1], mesh1.points[:,2]) + np.pi*(mesh1.points[:,1]<0)\n",
    "    z = points[:,2]\n",
    "    def normalize1d(data):\n",
    "        return (data-np.min(data))/(np.max(data)-np.min(data))*2-1\n",
    "    cyl_pos = np.array([normalize1d(r),normalize1d(theta),normalize1d(z)]).T\n",
    "    return cyl_pos \n",
    "\n",
    "cyl_pos = cyl_coor_pos(mesh1.points)\n",
    "print(cyl_pos.shape)"
   ]
  },
  {
   "cell_type": "code",
   "execution_count": 35,
   "metadata": {},
   "outputs": [],
   "source": [
    "mesh = pv.read('../../data/cases/dataset1/Design_1/Mapped_Blade_Surface.vtp')\n",
    "pts_s0 = pv.read('./result/data0_poly_s0.vtp').points\n",
    "pts_s1 = pv.read('./result/data0_poly_s1.vtp').points\n",
    "pts_s2 = pv.read('./result/data0_poly_s2.vtp').points"
   ]
  },
  {
   "cell_type": "code",
   "execution_count": 41,
   "metadata": {},
   "outputs": [
    {
     "data": {
      "application/vnd.jupyter.widget-view+json": {
       "model_id": "4a9ff2e71e9642eeb336e0e12b6ba413",
       "version_major": 2,
       "version_minor": 0
      },
      "text/plain": [
       "BokehModel(combine_events=True, render_bundle={'docs_json': {'a9672252-f64e-47ec-a398-970895878dda': {'defs': …"
      ]
     },
     "metadata": {},
     "output_type": "display_data"
    },
    {
     "data": {
      "text/html": [
       "<div style=\"display: none\"></div>"
      ]
     },
     "metadata": {},
     "output_type": "display_data"
    }
   ],
   "source": [
    "#plot using pyvista\n",
    "pl = pv.Plotter(window_size = [800,800])\n",
    "pl.background_color = 'w'\n",
    "pl.add_mesh(mesh,color = 'gray',show_edges = True, opacity=1)# scalars = ?\n",
    "# pl.add_points(pts_s0, color = 'yellow',point_size = 5)\n",
    "# pl.add_points(pts_s1, color = 'orange',point_size = 5)\n",
    "pl.add_points(pts_s2, color = 'red',point_size = 5)\n",
    "# _ = pl.add_axes(line_width=5)\n",
    "# x_mesh = pv.Text3D('x',depth=0.1)\n",
    "# x_mesh.points = (x_mesh.points-np.mean(x_mesh.points,axis=0))*0.3+np.array([1.1,0.,0.])\n",
    "# y_mesh = pv.Text3D('y',depth=0.1)\n",
    "# y_mesh.points = (y_mesh.points-np.mean(y_mesh.points,axis=0))*0.3+np.array([0.,1.1,0.])\n",
    "# z_mesh = pv.Text3D('z',depth=0.1)\n",
    "# z_mesh.points = (z_mesh.points-np.mean(z_mesh.points,axis=0))*0.3+np.array([0.,0.,1.1])\n",
    "# pl.add_mesh(x_mesh,color = 'red',show_edges = True, opacity=1)# scalars = ?\n",
    "# pl.add_mesh(y_mesh,color = 'yellow',show_edges = True, opacity=1)# scalars = ?\n",
    "# pl.add_mesh(z_mesh,color = 'blue',show_edges = True, opacity=1)# scalars = ?\n",
    "_ = pl.add_arrows(np.array([0.,0.,0.]), np.array([1.,0.,0.]), mag=0.001,color = 'red')\n",
    "_ = pl.add_arrows(np.array([0.,0.,0.]), np.array([0.,1.,0.]), mag=0.001,color = 'yellow')\n",
    "_ = pl.add_arrows(np.array([0.,0.,0.]), np.array([0.,0.,1.]), mag=0.001,color = 'blue')\n",
    "#glyphs = mesh.glyph(orient='vectors', scale='scalars', factor=0.003, geom=geom)\n",
    "#pl.add_mesh(glyphs, show_scalar_bar=False, lighting=False, cmap='coolwarm')\n",
    "pl.enable_anti_aliasing()\n",
    "pl.show(jupyter_backend='panel')\n"
   ]
  },
  {
   "cell_type": "code",
   "execution_count": null,
   "metadata": {},
   "outputs": [],
   "source": []
  }
 ],
 "metadata": {
  "kernelspec": {
   "display_name": "Python 3.9.9 ('geoheaven')",
   "language": "python",
   "name": "python3"
  },
  "language_info": {
   "codemirror_mode": {
    "name": "ipython",
    "version": 3
   },
   "file_extension": ".py",
   "mimetype": "text/x-python",
   "name": "python",
   "nbconvert_exporter": "python",
   "pygments_lexer": "ipython3",
   "version": "3.9.9"
  },
  "orig_nbformat": 4,
  "vscode": {
   "interpreter": {
    "hash": "2b004a82c8010c5e8927eb314b68549e78c6155a31458431e6fd09900f1257ce"
   }
  }
 },
 "nbformat": 4,
 "nbformat_minor": 2
}
